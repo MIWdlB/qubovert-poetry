{
 "cells": [
  {
   "cell_type": "markdown",
   "metadata": {},
   "source": [
    "# Higher Order Binary Optimization (HOBO) problems with qubovert"
   ]
  },
  {
   "cell_type": "markdown",
   "metadata": {},
   "source": [
    "If `qubovert` is not `pip` installed and you are using these notebooks from within the `notebook_examples` directory, then run this cell. Otherwise it is not needed."
   ]
  },
  {
   "cell_type": "code",
   "execution_count": 1,
   "metadata": {},
   "outputs": [],
   "source": [
    "import sys\n",
    "sys.path.append(\"..\")"
   ]
  },
  {
   "cell_type": "markdown",
   "metadata": {},
   "source": [
    "Import qubovert!"
   ]
  },
  {
   "cell_type": "code",
   "execution_count": 2,
   "metadata": {},
   "outputs": [],
   "source": [
    "import qubovert"
   ]
  },
  {
   "cell_type": "markdown",
   "metadata": {},
   "source": [
    "Create a Higher Order Binary Optimization (``HOBO``) object."
   ]
  },
  {
   "cell_type": "code",
   "execution_count": 3,
   "metadata": {},
   "outputs": [],
   "source": [
    "H = qubovert.HOBO()"
   ]
  },
  {
   "cell_type": "markdown",
   "metadata": {},
   "source": [
    "Let's try to encode the optimization problem of finding the minimum of $C$, where\n",
    "\n",
    "$$C = x_0 x_1 - 2x_1 + x_1 x_2 x_3,$$"
   ]
  },
  {
   "cell_type": "code",
   "execution_count": 4,
   "metadata": {},
   "outputs": [
    {
     "data": {
      "text/plain": [
       "{('x_0', 'x_1'): 1, ('x_1',): -2, ('x_3', 'x_2', 'x_1'): 1}"
      ]
     },
     "execution_count": 4,
     "metadata": {},
     "output_type": "execute_result"
    }
   ],
   "source": [
    "H[('x_0', 'x_1')] += 1\n",
    "H[('x_1',)] -= 2\n",
    "H[('x_1', 'x_2', 'x_3')] += 1\n",
    "# alternatively, can say H += {('x_0', 'x_1'): 1, ('x_1',): -2, ('x_1', 'x_2', 'x_3'): 1}\n",
    "H"
   ]
  },
  {
   "cell_type": "markdown",
   "metadata": {},
   "source": [
    "An we subject $C$ to the constraints\n",
    "\n",
    "$$x_0 \\oplus x_1 = x_3, \\quad 3x_0 + 2x_1 + 4x_3 < 7, \\quad {\\rm and} \\quad x_0 x_1 = x_3 - x_2.$$\n",
    "\n",
    "To enforce the constraints, we will pick a symbol $\\lambda$ that we can tune as we like later."
   ]
  },
  {
   "cell_type": "code",
   "execution_count": 5,
   "metadata": {},
   "outputs": [
    {
     "data": {
      "text/plain": [
       "{('x_0', 'x_1'): 11*lam + 1,\n",
       " ('x_1',): -19*lam - 2,\n",
       " ('x_3', 'x_2', 'x_1'): 1,\n",
       " ('x_0',): -26*lam,\n",
       " ('x_3', 'x_0'): 22*lam,\n",
       " ('x_3', 'x_1'): 14*lam,\n",
       " ('x_3', 'x_0', 'x_1'): 2*lam,\n",
       " ('x_3',): -30*lam,\n",
       " ('x_0', '_a0'): 6*lam,\n",
       " ('x_0', '_a1'): 12*lam,\n",
       " ('x_0', '_a2'): 24*lam,\n",
       " ('x_1', '_a0'): 4*lam,\n",
       " ('x_1', '_a1'): 8*lam,\n",
       " ('_a2', 'x_1'): 16*lam,\n",
       " ('x_3', '_a0'): 8*lam,\n",
       " ('x_3', '_a1'): 16*lam,\n",
       " ('x_3', '_a2'): 32*lam,\n",
       " (): 36*lam,\n",
       " ('_a0',): -11*lam,\n",
       " ('_a1',): -20*lam,\n",
       " ('_a2',): -32*lam,\n",
       " ('_a0', '_a1'): 4*lam,\n",
       " ('_a2', '_a0'): 8*lam,\n",
       " ('_a2', '_a1'): 16*lam,\n",
       " ('x_2', 'x_0', 'x_1'): 2*lam,\n",
       " ('x_3', 'x_2'): -2*lam,\n",
       " ('x_2',): lam}"
      ]
     },
     "execution_count": 5,
     "metadata": {},
     "output_type": "execute_result"
    }
   ],
   "source": [
    "#!pip install sympy\n",
    "from sympy import Symbol\n",
    "\n",
    "lam = Symbol(\"lam\", real=True, positive=True)\n",
    "\n",
    "H.XOR_eq(\n",
    "    'x_0', 'x_1', 'x_3',\n",
    "    lam=lam, constraint=True\n",
    "    # see the docstring for more info on the `constraint` keyword argument, it is only \n",
    "    # necessary to add here if we plan on using the `H.solve_bruteforce` method.\n",
    ").add_constraint_lt_zero(\n",
    "    {('x_0',): 3, ('x_1',): 2, ('x_3',): 4, (): -7},\n",
    "    lam=lam\n",
    ").add_constraint_eq_zero(\n",
    "    {('x_0', 'x_1'): 1, ('x_3',): -1, ('x_2',): 1}, \n",
    "    lam=lam\n",
    ")\n",
    "H"
   ]
  },
  {
   "cell_type": "markdown",
   "metadata": {},
   "source": [
    "Notice that the constraints are automatically added to the objective function, and in particular the inequality constraint introduced some ancilla bits (labeled `'_a0'`, `'_a1'`, and `'_a2'`). Let's look at the constraints."
   ]
  },
  {
   "cell_type": "code",
   "execution_count": 6,
   "metadata": {},
   "outputs": [
    {
     "name": "stdout",
     "output_type": "stream",
     "text": [
      "{'eq': [{('x_0',): 1, ('x_1',): 1, ('x_0', 'x_1'): -2, ('x_3',): -1}, {('x_0', 'x_1'): 1, ('x_3',): -1, ('x_2',): 1}], 'lt': [{('x_0',): 3, ('x_1',): 2, ('x_3',): 4, (): -7}]}\n"
     ]
    }
   ],
   "source": [
    "print(H.constraints)"
   ]
  },
  {
   "cell_type": "markdown",
   "metadata": {},
   "source": [
    "Notice there are two equality constraints and one inequality constraint. The first equality one comes from enforcing the XOR constraint, and the second comes from enforcing the other equality constraint. The `'eq'` key of the constraints dictionary indicates that the quantity equals zero, and the `'lt'` key of the constraints dictionary indicates that the quantity is less than zero. Other possible keys are `'le'`, `'gt'`, and `'ge'`. See the docstrings for `HOBO.add_constraint_eq_zero`, `HOBO.add_constraint_lt_zero`, `HOBO.add_constraint_le_zero`, `HOBO.add_constraint_gt_zero`, and `HOBO.add_constraint_ge_zero` for info."
   ]
  },
  {
   "cell_type": "markdown",
   "metadata": {},
   "source": [
    "For testing purposes, let's solve this bruteforce to make sure everything is working."
   ]
  },
  {
   "cell_type": "code",
   "execution_count": 7,
   "metadata": {},
   "outputs": [
    {
     "name": "stdout",
     "output_type": "stream",
     "text": [
      "[{'x_0': 0, 'x_1': 1, 'x_2': 1, 'x_3': 1, '_a0': 0, '_a1': 0, '_a2': 0}]\n"
     ]
    }
   ],
   "source": [
    "solutions = H.solve_bruteforce(all_solutions=True)\n",
    "print(solutions)"
   ]
  },
  {
   "cell_type": "markdown",
   "metadata": {},
   "source": [
    "Notice that there is one unique solution that minimizes the objective function and obeys all the constraints. We can get rid of the ancilla information with ``H.remove_ancilla_from_solution``."
   ]
  },
  {
   "cell_type": "code",
   "execution_count": 8,
   "metadata": {},
   "outputs": [
    {
     "data": {
      "text/plain": [
       "{'x_0': 0, 'x_1': 1, 'x_2': 1, 'x_3': 1}"
      ]
     },
     "execution_count": 8,
     "metadata": {},
     "output_type": "execute_result"
    }
   ],
   "source": [
    "solution = solutions[0]\n",
    "H.remove_ancilla_from_solution(solution)"
   ]
  },
  {
   "cell_type": "markdown",
   "metadata": {},
   "source": [
    "Now let's solve this problem with a generic QUBO solver. Notice that the degree of problem is more than two, making `H` not a natural Quadratic Unconstrained Binary Optimization Problem (QUBO)."
   ]
  },
  {
   "cell_type": "code",
   "execution_count": 9,
   "metadata": {},
   "outputs": [
    {
     "data": {
      "text/plain": [
       "3"
      ]
     },
     "execution_count": 9,
     "metadata": {},
     "output_type": "execute_result"
    }
   ],
   "source": [
    "H.degree"
   ]
  },
  {
   "cell_type": "markdown",
   "metadata": {},
   "source": [
    "We can convert it to a QUBO (note that there are some options for the reduction from PUBO to QUBO, see the `H.to_qubo` method for details). Ancilla bits will need to be added, and bit labels are mapped to integers."
   ]
  },
  {
   "cell_type": "code",
   "execution_count": 10,
   "metadata": {},
   "outputs": [
    {
     "name": "stdout",
     "output_type": "stream",
     "text": [
      "num PUBO variables 7\n",
      "num QUBO variables 9\n",
      "\n",
      "{(0, 1): 15*lam + 3, (1,): -19*lam - 2, (7,): 6, (1, 2): 2, (1, 7): -4, (2, 7): -4, (3, 7): 1, (0,): -26*lam, (0, 3): 22*lam, (1, 3): 14*lam, (8,): 12*lam + 6, (0, 8): -8*lam - 4, (1, 8): -8*lam - 4, (3, 8): 2*lam, (3,): -30*lam, (0, 4): 6*lam, (0, 5): 12*lam, (0, 6): 24*lam, (1, 4): 4*lam, (1, 5): 8*lam, (1, 6): 16*lam, (3, 4): 8*lam, (3, 5): 16*lam, (3, 6): 32*lam, (4,): -11*lam, (5,): -20*lam, (6,): -32*lam, (4, 5): 4*lam, (4, 6): 8*lam, (5, 6): 16*lam, (2, 8): 2*lam, (2, 3): -2*lam, (2,): lam, (): 36*lam}\n"
     ]
    }
   ],
   "source": [
    "Q = H.to_qubo()\n",
    "print(\"num PUBO variables\", H.num_binary_variables)\n",
    "print(\"num QUBO variables\", Q.num_binary_variables)\n",
    "print()\n",
    "print(Q)"
   ]
  },
  {
   "cell_type": "markdown",
   "metadata": {},
   "source": [
    "For testing purposes, let's solve this with bruteforce to see what the proper value of $\\lambda$ should be to enforce the constraints. Notice how we remap the QUBO solution to the HOBO solution with `H.convert_solution(x)`."
   ]
  },
  {
   "cell_type": "code",
   "execution_count": 11,
   "metadata": {},
   "outputs": [
    {
     "name": "stdout",
     "output_type": "stream",
     "text": [
      "lam 1\n",
      "\t {'x_0': 0, 'x_1': 1, 'x_2': 0, 'x_3': 0, '_a0': 0, '_a1': 0, '_a2': 1} is invalid\n",
      "\t {'x_0': 0, 'x_1': 1, 'x_2': 0, 'x_3': 1, '_a0': 0, '_a1': 0, '_a2': 0} is invalid\n",
      "\t {'x_0': 0, 'x_1': 1, 'x_2': 1, 'x_3': 1, '_a0': 0, '_a1': 0, '_a2': 0} is valid\n",
      "\n",
      "lam 2\n",
      "\t {'x_0': 0, 'x_1': 1, 'x_2': 1, 'x_3': 1, '_a0': 0, '_a1': 0, '_a2': 0} is valid\n",
      "\n",
      "lam 3\n",
      "\t {'x_0': 0, 'x_1': 1, 'x_2': 1, 'x_3': 1, '_a0': 0, '_a1': 0, '_a2': 0} is valid\n",
      "\n"
     ]
    }
   ],
   "source": [
    "for l in (1, 2, 3):\n",
    "    Q_temp = Q.subs({lam: l})\n",
    "    solutions = Q_temp.solve_bruteforce(all_solutions=True)\n",
    "    solutions = [H.convert_solution(x) for x in solutions]\n",
    "    print('lam', l)\n",
    "    for s in solutions:\n",
    "        print(\"\\t\", s, \"is\", \"valid\" if H.is_solution_valid(s) else \"invalid\")\n",
    "    print()"
   ]
  },
  {
   "cell_type": "markdown",
   "metadata": {},
   "source": [
    "We see that $\\lambda = 2$ is sufficient to enforce the constraints. So let's update our QUBO."
   ]
  },
  {
   "cell_type": "code",
   "execution_count": 12,
   "metadata": {},
   "outputs": [],
   "source": [
    "Q_good = Q.subs({lam: 2})"
   ]
  },
  {
   "cell_type": "markdown",
   "metadata": {},
   "source": [
    "Now let's solve the QUBO with D'Wave's simulated annealer."
   ]
  },
  {
   "cell_type": "code",
   "execution_count": 13,
   "metadata": {},
   "outputs": [],
   "source": [
    "#!pip install dwave-neal\n",
    "from neal import SimulatedAnnealingSampler\n",
    "\n",
    "sampler = SimulatedAnnealingSampler()"
   ]
  },
  {
   "cell_type": "markdown",
   "metadata": {},
   "source": [
    "Note that their software package takes in a specific form for QUBOs, namely, the keys of the dictionary must be two element tuples. This form can be accessed from `Q` and `Q_good` with `Q.Q` or `Q_good.Q`."
   ]
  },
  {
   "cell_type": "code",
   "execution_count": 14,
   "metadata": {},
   "outputs": [
    {
     "name": "stdout",
     "output_type": "stream",
     "text": [
      "objective function: -1.0 \n",
      "\n",
      "qubo solution: {0: 0, 1: 1, 2: 1, 3: 1, 4: 0, 5: 0, 6: 0, 7: 1, 8: 0} \n",
      "\n",
      "hobo solution: {'x_0': 0, 'x_1': 1, 'x_2': 1, 'x_3': 1, '_a0': 0, '_a1': 0, '_a2': 0}\n",
      "objective function: -1 \n",
      "\n",
      "The solution is valid\n"
     ]
    }
   ],
   "source": [
    "qubo_sample = sampler.sample_qubo(Q_good.Q, num_reads=100)\n",
    "print(\"objective function:\", qubo_sample.first.energy + Q_good.offset, \"\\n\")\n",
    "\n",
    "qubo_solution = qubo_sample.first.sample\n",
    "print(\"qubo solution:\", qubo_solution, \"\\n\")\n",
    "\n",
    "solution = H.convert_solution(qubo_solution)\n",
    "print(\"hobo solution:\", solution)\n",
    "print(\"objective function:\", H.value(solution), \"\\n\")\n",
    "\n",
    "print(\"The solution is\", \"valid\" if H.is_solution_valid(solution) else \"invalid\")"
   ]
  },
  {
   "cell_type": "markdown",
   "metadata": {},
   "source": [
    "This matches the result of `H.solve_bruteforce()`. Now we'll solve an Ising formulation of our problem. Again we'll take $\\lambda = 2$."
   ]
  },
  {
   "cell_type": "code",
   "execution_count": 15,
   "metadata": {},
   "outputs": [
    {
     "name": "stdout",
     "output_type": "stream",
     "text": [
      "num PUBO variables 7\n",
      "num Ising variables 9\n",
      "\n",
      "{(0, 1): 8.25, (0,): 9.25, (1,): 3.75, (): 45.0, (7,): 1.25, (1, 2): 0.5, (2,): 0.5, (1, 7): -1.0, (2, 7): -1.0, (3, 7): 0.25, (3,): 16.25, (0, 3): 11.0, (1, 3): 7.0, (8,): 7.0, (0, 8): -5.0, (1, 8): -5.0, (3, 8): 1.0, (0, 4): 3.0, (0, 5): 6.0, (0, 6): 12.0, (6,): 16.0, (1, 4): 2.0, (1, 5): 4.0, (1, 6): 8.0, (3, 4): 4.0, (3, 5): 8.0, (3, 6): 16.0, (4, 5): 2.0, (4, 6): 4.0, (4,): 4.0, (5, 6): 8.0, (5,): 8.0, (2, 8): 1.0, (2, 3): -1.0}\n"
     ]
    }
   ],
   "source": [
    "L = H.to_ising().subs({lam: 2})\n",
    "# note that we cannot do H.subs({lam: 2}).to_ising()!! This is because H.subs({lam: 2})\n",
    "# creates a new HOBO object, and it's mapping from variables labels to integers may be\n",
    "# different than H's mapping. For example, try H.mapping == H.subs({lam: 2}).mapping a\n",
    "# few times. They will often be different.\n",
    "print(\"num PUBO variables\", H.num_binary_variables)\n",
    "print(\"num Ising variables\", L.num_binary_variables)\n",
    "print()\n",
    "print(L)"
   ]
  },
  {
   "cell_type": "markdown",
   "metadata": {},
   "source": [
    "Similar to their QUBO solver, D'Wave's Ising solver accepts a specific form for Ising models, namely a linear term dictionary and a quadratic term dictionary. These can be accessed with `L.h` and `L.J`."
   ]
  },
  {
   "cell_type": "code",
   "execution_count": 16,
   "metadata": {},
   "outputs": [
    {
     "name": "stdout",
     "output_type": "stream",
     "text": [
      "objective function: -1.0 \n",
      "\n",
      "ising solution: {0: -1, 1: 1, 2: 1, 3: 1, 4: -1, 5: -1, 6: -1, 7: 1, 8: -1} \n",
      "\n",
      "hobo solution: {'x_0': 0, 'x_1': 1, 'x_2': 1, 'x_3': 1, '_a0': 0, '_a1': 0, '_a2': 0}\n",
      "objective function: -1 \n",
      "\n",
      "The solution is valid\n"
     ]
    }
   ],
   "source": [
    "ising_sample = sampler.sample_ising(L.h, L.J, num_reads=100)\n",
    "print(\"objective function:\", ising_sample.first.energy + L.offset, \"\\n\")\n",
    "\n",
    "ising_solution = ising_sample.first.sample\n",
    "print(\"ising solution:\", ising_solution, \"\\n\")\n",
    "\n",
    "solution = H.convert_solution(ising_solution)\n",
    "print(\"hobo solution:\", solution)\n",
    "print(\"objective function:\", H.value(solution), \"\\n\")\n",
    "\n",
    "print(\"The solution is\", \"valid\" if H.is_solution_valid(solution) else \"invalid\")"
   ]
  },
  {
   "cell_type": "markdown",
   "metadata": {},
   "source": [
    "Again this matches the result of `H.solve_bruteforce()`."
   ]
  }
 ],
 "metadata": {
  "kernelspec": {
   "display_name": "Python 3",
   "language": "python",
   "name": "python3"
  },
  "language_info": {
   "codemirror_mode": {
    "name": "ipython",
    "version": 3
   },
   "file_extension": ".py",
   "mimetype": "text/x-python",
   "name": "python",
   "nbconvert_exporter": "python",
   "pygments_lexer": "ipython3",
   "version": "3.7.2"
  }
 },
 "nbformat": 4,
 "nbformat_minor": 2
}
